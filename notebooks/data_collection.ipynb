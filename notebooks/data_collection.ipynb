{
 "cells": [
  {
   "cell_type": "code",
   "execution_count": 51,
   "metadata": {},
   "outputs": [
    {
     "name": "stdout",
     "output_type": "stream",
     "text": [
      "             GDP_USA  Inflation_US_All  Inflation_US_Core  USD_EUR\n",
      "DATE                                                              \n",
      "1999-01-01  4.788425             164.7              175.6      NaN\n",
      "1999-02-01  4.077586             164.7              175.6   1.1371\n",
      "1999-03-01  4.077586             164.8              175.7   1.0995\n",
      "1999-04-01  4.077586             165.9              176.3   1.0808\n",
      "1999-05-01  4.077586             166.0              176.5   1.0564\n"
     ]
    }
   ],
   "source": [
    "import wbdata\n",
    "import pandas as pd\n",
    "import pandas_datareader as pdr\n",
    "from datetime import datetime\n",
    "\n",
    "# --------------------------\n",
    "# 1. GDP Growth (World Bank)\n",
    "# --------------------------\n",
    "# Fetch GDP growth for the United States (annual data)\n",
    "gdp_indicator = {\"NY.GDP.MKTP.KD.ZG\": \"GDP_Growth\"}\n",
    "countries = [\"USA\"]\n",
    "start_year, end_year = \"1999\", \"2022\"\n",
    "\n",
    "gdp = wbdata.get_dataframe(gdp_indicator, country=countries, date=(start_year, end_year))\n",
    "gdp = gdp.reset_index()\n",
    "gdp.rename(columns={\"GDP_Growth\": \"GDP_USA\"}, inplace=True)\n",
    "gdp[\"date\"] = pd.to_datetime(gdp[\"date\"].astype(str) + \"-01-01\")  # Convert to DatetimeIndex with Jan 1st\n",
    "gdp.set_index(\"date\", inplace=True)\n",
    "\n",
    "# --------------------------\n",
    "# 2. Inflation (FRED)\n",
    "# --------------------------\n",
    "# Fetch U.S. CPI data\n",
    "inflation = pdr.DataReader([\"CPIAUCSL\", \"CPILFESL\"], \"fred\", start=\"1999-01-01\")\n",
    "inflation.columns = [\"Inflation_US_All\", \"Inflation_US_Core\"]\n",
    "\n",
    "# --------------------------\n",
    "# 3. USD Exchange Rate (FRED)\n",
    "# --------------------------\n",
    "# Fetch USD to EUR exchange rate (daily data)\n",
    "usd_eur = pdr.DataReader(\"DEXUSEU\", \"fred\", start=\"1999-01-01\")\n",
    "usd_eur.columns = [\"USD_EUR\"]\n",
    "\n",
    "# Resample USD_EUR to monthly frequency (using the last value of each month)\n",
    "usd_eur_monthly = usd_eur.resample(\"ME\").last()  # Use \"ME\" for month-end frequency\n",
    "\n",
    "# Align USD_EUR to the start of the month\n",
    "usd_eur_monthly.index = usd_eur_monthly.index.to_period(\"M\").to_timestamp(\"M\") + pd.offsets.MonthBegin(1)\n",
    "\n",
    "# --------------------------\n",
    "# Align GDP to Monthly Frequency\n",
    "# --------------------------\n",
    "# Reindex GDP to match the monthly frequency of inflation and exchange rate data\n",
    "gdp = gdp.reindex(inflation.index, method=\"ffill\")  # Forward-fill annual GDP values\n",
    "\n",
    "# --------------------------\n",
    "# Merge DataFrames\n",
    "# --------------------------\n",
    "# Merge all datasets on their index (date)\n",
    "merged_df = gdp.join(inflation, how=\"outer\").join(usd_eur_monthly, how=\"outer\")\n",
    "merged_df = merged_df.sort_index()\n",
    "\n",
    "# Save to CSV\n",
    "merged_df.to_csv(\"../src/data/us_economic_data.csv\")\n",
    "\n",
    "# Display sample data\n",
    "print(merged_df.head())"
   ]
  }
 ],
 "metadata": {
  "kernelspec": {
   "display_name": ".venv",
   "language": "python",
   "name": "python3"
  },
  "language_info": {
   "codemirror_mode": {
    "name": "ipython",
    "version": 3
   },
   "file_extension": ".py",
   "mimetype": "text/x-python",
   "name": "python",
   "nbconvert_exporter": "python",
   "pygments_lexer": "ipython3",
   "version": "3.11.0"
  }
 },
 "nbformat": 4,
 "nbformat_minor": 2
}
