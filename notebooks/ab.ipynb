{
 "cells": [
  {
   "cell_type": "code",
   "execution_count": 1,
   "metadata": {},
   "outputs": [
    {
     "ename": "NameError",
     "evalue": "name 'data' is not defined",
     "output_type": "error",
     "traceback": [
      "\u001b[1;31m---------------------------------------------------------------------------\u001b[0m",
      "\u001b[1;31mNameError\u001b[0m                                 Traceback (most recent call last)",
      "Cell \u001b[1;32mIn[1], line 5\u001b[0m\n\u001b[0;32m      1\u001b[0m \u001b[38;5;66;03m# --------------------------\u001b[39;00m\n\u001b[0;32m      2\u001b[0m \u001b[38;5;66;03m# 1. Data Preprocessing (Corrected)\u001b[39;00m\n\u001b[0;32m      3\u001b[0m \u001b[38;5;66;03m# --------------------------\u001b[39;00m\n\u001b[0;32m      4\u001b[0m \u001b[38;5;66;03m# Split data first\u001b[39;00m\n\u001b[1;32m----> 5\u001b[0m train_size \u001b[38;5;241m=\u001b[39m \u001b[38;5;28mint\u001b[39m(\u001b[38;5;28mlen\u001b[39m(\u001b[43mdata\u001b[49m) \u001b[38;5;241m*\u001b[39m \u001b[38;5;241m0.8\u001b[39m)\n\u001b[0;32m      6\u001b[0m train_raw, test_raw \u001b[38;5;241m=\u001b[39m data\u001b[38;5;241m.\u001b[39miloc[:train_size], data\u001b[38;5;241m.\u001b[39miloc[train_size:]\n\u001b[0;32m      8\u001b[0m \u001b[38;5;66;03m# Scale using only training data\u001b[39;00m\n",
      "\u001b[1;31mNameError\u001b[0m: name 'data' is not defined"
     ]
    }
   ],
   "source": [
    "# --------------------------\n",
    "# 1. Data Preprocessing (Corrected)\n",
    "# --------------------------\n",
    "# Split data first\n",
    "train_size = int(len(data) * 0.8)\n",
    "train_raw, test_raw = data.iloc[:train_size], data.iloc[train_size:]\n",
    "\n",
    "# Scale using only training data\n",
    "scaler = MinMaxScaler()\n",
    "train_scaled = pd.DataFrame(scaler.fit_transform(train_raw), \n",
    "                           columns=data.columns, \n",
    "                           index=train_raw.index)\n",
    "test_scaled = pd.DataFrame(scaler.transform(test_raw), \n",
    "                          columns=data.columns, \n",
    "                          index=test_raw.index)\n",
    "\n",
    "# Ensure no NaN values\n",
    "train = train_scaled.dropna()\n",
    "test = test_scaled.dropna()\n",
    "\n",
    "# --------------------------\n",
    "# 2. ARIMA Model (Remains Same)\n",
    "# --------------------------\n",
    "arima_model = ARIMA(train[\"Price\"], order=(5,1,0)).fit()\n",
    "arima_pred = arima_model.forecast(steps=len(test))\n",
    "\n",
    "# --------------------------\n",
    "# 3. GARCH Model (Volatility Prediction - Not Evaluated)\n",
    "# --------------------------\n",
    "# This section remains but isn't used in price evaluation\n",
    "scaled_price = train[\"Price\"] * 10\n",
    "garch_model = arch_model(scaled_price, vol='Garch', p=1, q=1, rescale=False).fit()\n",
    "\n",
    "# --------------------------\n",
    "# 4. VAR Model (Correct Column Selection)\n",
    "# --------------------------\n",
    "var_model = VAR(train)\n",
    "var_fitted = var_model.fit(5)\n",
    "var_pred = var_fitted.forecast(train.values[-5:], steps=len(test))\n",
    "\n",
    "# --------------------------\n",
    "# 5. Markov-Switching Model (Unchanged)\n",
    "# --------------------------\n",
    "markov_model = MarkovRegression(train[\"Price\"], k_regimes=2, trend='c', switching_variance=True).fit()\n",
    "\n",
    "# --------------------------\n",
    "# 6. LSTM Model (Unchanged)\n",
    "# --------------------------\n",
    "# ... [LSTM implementation remains the same] ...\n",
    "\n",
    "# --------------------------\n",
    "# 7. Model Evaluation (Corrected)\n",
    "# --------------------------\n",
    "def evaluate_model(actual, predicted, model_name):\n",
    "    mae = mean_absolute_error(actual, predicted)\n",
    "    rmse = np.sqrt(mean_squared_error(actual, predicted))\n",
    "    print(f\"{model_name} - MAE: {mae:.4f}, RMSE: {rmse:.4f}\")\n",
    "\n",
    "evaluate_model(test[\"Price\"], arima_pred, \"ARIMA\")\n",
    "evaluate_model(test[\"Price\"], var_pred[:,0], \"VAR\")  # Ensure first column is Price\n",
    "evaluate_model(test[\"Price\"].values[1:], lstm_pred.flatten(), \"LSTM\")\n",
    "\n",
    "# --------------------------\n",
    "# 8. Visualization (Adjusted)\n",
    "# --------------------------\n",
    "plt.figure(figsize=(12,6))\n",
    "plt.plot(test.index, test[\"Price\"], label=\"Actual Price\", color='black')\n",
    "plt.plot(test.index, arima_pred, label=\"ARIMA\", linestyle='dashed')\n",
    "plt.plot(test.index, var_pred[:,0], label=\"VAR\", linestyle='dashed')\n",
    "plt.plot(test.index[1:], lstm_pred, label=\"LSTM\", linestyle='dashed')\n",
    "plt.legend()\n",
    "plt.title(\"Model Predictions vs Actual Price\")\n",
    "plt.show()"
   ]
  }
 ],
 "metadata": {
  "kernelspec": {
   "display_name": ".venv",
   "language": "python",
   "name": "python3"
  },
  "language_info": {
   "codemirror_mode": {
    "name": "ipython",
    "version": 3
   },
   "file_extension": ".py",
   "mimetype": "text/x-python",
   "name": "python",
   "nbconvert_exporter": "python",
   "pygments_lexer": "ipython3",
   "version": "3.11.0"
  }
 },
 "nbformat": 4,
 "nbformat_minor": 2
}
